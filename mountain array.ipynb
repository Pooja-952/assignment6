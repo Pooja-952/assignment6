{
 "cells": [
  {
   "cell_type": "markdown",
   "id": "ea3891ab-ec60-4d20-aacb-2c9824b88260",
   "metadata": {},
   "source": [
    "## Q3. Given an array of integers arr, return *true if and only if it is a valid mountain array*. Recall that arr is a mountain array if and only if:\n",
    "- arr.length >= 3\n",
    "- There exists some i with 0 < i < arr.length - 1 such that:\n",
    "    - arr[0] < arr[1] < ... < arr[i - 1] < arr[i]\n",
    "    - arr[i] > arr[i + 1] > ... > arr[arr.length - 1]"
   ]
  },
  {
   "cell_type": "code",
   "execution_count": 9,
   "id": "ac07e593-452e-415c-ab81-67e0cf7f3518",
   "metadata": {},
   "outputs": [],
   "source": [
    "def mountainArray(arr):\n",
    "    n = len(arr)\n",
    "    if n < 3:\n",
    "        return False\n",
    "    \n",
    "    i= 0\n",
    "    \n",
    "    while i < n -1 and arr[i] < arr[i + 1]:\n",
    "        i += 1\n",
    "        \n",
    "    if i == 0 and i == n - 1:\n",
    "        return False\n",
    "    while i < n - 1 and arr[i] > arr[i + 1]:\n",
    "        i += 1\n",
    "        \n",
    "    return i == n - 1    \n",
    "        "
   ]
  },
  {
   "cell_type": "code",
   "execution_count": 10,
   "id": "5a4554d9-cb41-45e6-96a1-0a26bde97f69",
   "metadata": {},
   "outputs": [
    {
     "name": "stdout",
     "output_type": "stream",
     "text": [
      "False\n"
     ]
    }
   ],
   "source": [
    "arr = [2,1]\n",
    "result = mountainArray(arr)\n",
    "print(result)"
   ]
  },
  {
   "cell_type": "code",
   "execution_count": null,
   "id": "19503e0e-1cd7-42a4-abdb-3d134e285457",
   "metadata": {},
   "outputs": [],
   "source": []
  }
 ],
 "metadata": {
  "kernelspec": {
   "display_name": "Python 3 (ipykernel)",
   "language": "python",
   "name": "python3"
  },
  "language_info": {
   "codemirror_mode": {
    "name": "ipython",
    "version": 3
   },
   "file_extension": ".py",
   "mimetype": "text/x-python",
   "name": "python",
   "nbconvert_exporter": "python",
   "pygments_lexer": "ipython3",
   "version": "3.10.6"
  }
 },
 "nbformat": 4,
 "nbformat_minor": 5
}
