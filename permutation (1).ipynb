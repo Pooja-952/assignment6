{
 "cells": [
  {
   "cell_type": "markdown",
   "id": "0ee7b091-f65a-4033-8447-e0a540e25700",
   "metadata": {},
   "source": [
    "## Q1. A permutation perm of n + 1 integers of all the integers in the range [0, n] can be represented as a string s of length n where:\n",
    "- s[i] == 'I' if perm[i] < perm[i + 1], and\n",
    "- s[i] == 'D' if perm[i] > perm[i + 1].\n",
    "Given a string s, reconstruct the permutation perm and return it. If there are multiple valid permutations perm, return **any of them**."
   ]
  },
  {
   "cell_type": "code",
   "execution_count": 9,
   "id": "6df864f4-926e-4d48-af25-ba39cee4d2dc",
   "metadata": {},
   "outputs": [],
   "source": [
    "def permutation(s):\n",
    "    perm= []\n",
    "    n= len(s)\n",
    "    start = 0\n",
    "    end = n\n",
    "    \n",
    "    for ch in s:\n",
    "        if ch == 'I':\n",
    "            perm.append(start)\n",
    "            start += 1\n",
    "        elif ch == 'D':\n",
    "            perm.append(end)\n",
    "            end -= 1\n",
    "            \n",
    "    perm.append(start)        \n",
    "            \n",
    "    return perm"
   ]
  },
  {
   "cell_type": "code",
   "execution_count": 10,
   "id": "13c24fd0-8f1e-46e8-a40c-717341a7e9a1",
   "metadata": {},
   "outputs": [
    {
     "name": "stdout",
     "output_type": "stream",
     "text": [
      "[0, 4, 1, 3, 2]\n"
     ]
    }
   ],
   "source": [
    "s = \"IDID\"\n",
    "reconstruct = permutation(s)\n",
    "print(reconstruct)"
   ]
  },
  {
   "cell_type": "code",
   "execution_count": null,
   "id": "3d667008-f132-46c6-b135-6ba8366a7bc4",
   "metadata": {},
   "outputs": [],
   "source": []
  }
 ],
 "metadata": {
  "kernelspec": {
   "display_name": "Python 3 (ipykernel)",
   "language": "python",
   "name": "python3"
  },
  "language_info": {
   "codemirror_mode": {
    "name": "ipython",
    "version": 3
   },
   "file_extension": ".py",
   "mimetype": "text/x-python",
   "name": "python",
   "nbconvert_exporter": "python",
   "pygments_lexer": "ipython3",
   "version": "3.10.6"
  }
 },
 "nbformat": 4,
 "nbformat_minor": 5
}
