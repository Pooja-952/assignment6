{
 "cells": [
  {
   "cell_type": "markdown",
   "id": "3105174e-8732-4806-a77e-c65c636fcbfe",
   "metadata": {},
   "source": [
    "## Q5. Given two arrays nums1 and nums2 of length n, return the minimum product sum if you are allowed to rearrange the order of the elements in nums1."
   ]
  },
  {
   "cell_type": "code",
   "execution_count": 3,
   "id": "d7a15a45-cb78-46c8-bbb1-7144d7097878",
   "metadata": {},
   "outputs": [],
   "source": [
    "def productSum(nums1, nums2):\n",
    "    product_sum = 0\n",
    "    n= len(nums1)\n",
    "    nums1.sort()\n",
    "    nums2.sort(reverse= True)\n",
    "    \n",
    "    for i in range(n):\n",
    "        product_sum += nums1[i] * nums2[i]\n",
    "        \n",
    "    return product_sum"
   ]
  },
  {
   "cell_type": "code",
   "execution_count": 4,
   "id": "73342e1f-ebeb-4005-bcc2-397f9ec3d930",
   "metadata": {},
   "outputs": [
    {
     "name": "stdout",
     "output_type": "stream",
     "text": [
      "40\n"
     ]
    }
   ],
   "source": [
    "nums1 = [5,3,4,2]\n",
    "nums2 = [4,2,2,5]\n",
    "result = productSum(nums1, nums2)\n",
    "print(result)"
   ]
  },
  {
   "cell_type": "code",
   "execution_count": null,
   "id": "dbd3b221-866d-4d44-8a2c-a4cc56463103",
   "metadata": {},
   "outputs": [],
   "source": []
  }
 ],
 "metadata": {
  "kernelspec": {
   "display_name": "Python 3 (ipykernel)",
   "language": "python",
   "name": "python3"
  },
  "language_info": {
   "codemirror_mode": {
    "name": "ipython",
    "version": 3
   },
   "file_extension": ".py",
   "mimetype": "text/x-python",
   "name": "python",
   "nbconvert_exporter": "python",
   "pygments_lexer": "ipython3",
   "version": "3.10.6"
  }
 },
 "nbformat": 4,
 "nbformat_minor": 5
}
