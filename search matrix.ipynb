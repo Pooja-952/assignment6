{
 "cells": [
  {
   "cell_type": "markdown",
   "id": "9923d1ff-7652-4a16-b019-edf96f1f3dba",
   "metadata": {},
   "source": [
    "## Q2. You are given an m x n integer matrix matrix with the following two properties:\n",
    "- Each row is sorted in non-decreasing order.\n",
    "- The first integer of each row is greater than the last integer of the previous row.\n",
    "Given an integer target, return true *if* target *is in* matrix *or* false *otherwise*.\n",
    "You must write a solution in O(log(m * n)) time complexity."
   ]
  },
  {
   "cell_type": "code",
   "execution_count": 1,
   "id": "2cd0aac6-12de-4e7c-8eb9-35fde223e444",
   "metadata": {},
   "outputs": [],
   "source": [
    "def sortedMatrix(matrix, target):\n",
    "    m = len(matrix)\n",
    "    n = len(matrix[0])\n",
    "    left = 0\n",
    "    right = m * n - 1\n",
    "    \n",
    "    while left <= right:\n",
    "        mid = (left + right) // 2\n",
    "        row = mid // n\n",
    "        col = mid % n\n",
    "        if matrix [row][col] == target:\n",
    "            return True\n",
    "        elif matrix[row][col] < target:\n",
    "            left= mid + 1\n",
    "        else:\n",
    "            right = mid - 1\n",
    "            \n",
    "    return False       \n",
    "            "
   ]
  },
  {
   "cell_type": "code",
   "execution_count": 3,
   "id": "4954c793-8959-43c7-b364-ba01d3704f27",
   "metadata": {},
   "outputs": [
    {
     "name": "stdout",
     "output_type": "stream",
     "text": [
      "True\n"
     ]
    }
   ],
   "source": [
    "matrix = [[1,3,5,7],[10,11,16,20],[23,30,34,60]]\n",
    "target = 3\n",
    "result = sortedMatrix(matrix, target)\n",
    "print(result)"
   ]
  },
  {
   "cell_type": "code",
   "execution_count": null,
   "id": "b72b9a56-270e-4654-a645-bbd789daa0ea",
   "metadata": {},
   "outputs": [],
   "source": []
  }
 ],
 "metadata": {
  "kernelspec": {
   "display_name": "Python 3 (ipykernel)",
   "language": "python",
   "name": "python3"
  },
  "language_info": {
   "codemirror_mode": {
    "name": "ipython",
    "version": 3
   },
   "file_extension": ".py",
   "mimetype": "text/x-python",
   "name": "python",
   "nbconvert_exporter": "python",
   "pygments_lexer": "ipython3",
   "version": "3.10.6"
  }
 },
 "nbformat": 4,
 "nbformat_minor": 5
}
