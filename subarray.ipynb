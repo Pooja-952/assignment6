{
 "cells": [
  {
   "cell_type": "markdown",
   "id": "d5d07c6f-0eb6-42d9-a10c-6314d5feffaa",
   "metadata": {},
   "source": [
    "## Q4. Given a binary array nums, return the maximum length of a contiguous subarray with an equal number of 0 and 1."
   ]
  },
  {
   "cell_type": "code",
   "execution_count": 10,
   "id": "a4f07f17-dfaf-4ed1-9648-3cf144e3379a",
   "metadata": {},
   "outputs": [],
   "source": [
    "def arrayMaxLength(nums):\n",
    "    n = len(nums)\n",
    "    subarray = {0 : -1}\n",
    "    count= 0\n",
    "    max_length = 0\n",
    "    \n",
    "    for i in range(len(nums)):\n",
    "        if nums[i] == 0:\n",
    "            count -= 1\n",
    "        else:\n",
    "            count += 1\n",
    "        \n",
    "        if count in subarray:\n",
    "            max_length = max(max_length, i -subarray[count])\n",
    "            index = subarray[count]\n",
    "        \n",
    "        else:\n",
    "            subarray[count] = i\n",
    "            \n",
    "    \n",
    "    return max_length\n",
    "        \n",
    "        \n",
    "        "
   ]
  },
  {
   "cell_type": "code",
   "execution_count": 11,
   "id": "c9c0340a-883a-4101-87d7-4c61bf99eec6",
   "metadata": {},
   "outputs": [
    {
     "name": "stdout",
     "output_type": "stream",
     "text": [
      "2\n"
     ]
    }
   ],
   "source": [
    "nums = [0,1]\n",
    "result = arrayMaxLength(nums)\n",
    "print(result)"
   ]
  },
  {
   "cell_type": "code",
   "execution_count": null,
   "id": "9cd99582-f046-45e6-b55e-38a20d6f3b7d",
   "metadata": {},
   "outputs": [],
   "source": []
  }
 ],
 "metadata": {
  "kernelspec": {
   "display_name": "Python 3 (ipykernel)",
   "language": "python",
   "name": "python3"
  },
  "language_info": {
   "codemirror_mode": {
    "name": "ipython",
    "version": 3
   },
   "file_extension": ".py",
   "mimetype": "text/x-python",
   "name": "python",
   "nbconvert_exporter": "python",
   "pygments_lexer": "ipython3",
   "version": "3.10.6"
  }
 },
 "nbformat": 4,
 "nbformat_minor": 5
}
