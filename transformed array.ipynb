{
 "cells": [
  {
   "cell_type": "markdown",
   "id": "babe293c-7434-426c-8302-4ee873e0abdd",
   "metadata": {},
   "source": [
    "## Q6. An integer array original is transformed into a **doubled** array changed by appending **twice the value** of every element in original, and then randomly **shuffling** the resulting array.\n",
    "Given an array changed, return original *if* changed *is a **doubled** array. If* changed *is not a **doubled** array, return an empty array. The elements in* original *may be returned in **any** order*."
   ]
  },
  {
   "cell_type": "code",
   "execution_count": 21,
   "id": "cc89254f-cf76-4893-9d9a-5389df3f9bd9",
   "metadata": {},
   "outputs": [],
   "source": [
    "def arrayTransform(changed):\n",
    "    if len(changed) % 2 != 0:\n",
    "        return []\n",
    "    \n",
    "    original = []\n",
    "    seen = set()\n",
    "    \n",
    "    for num in changed:\n",
    "        if num / 2 in seen:\n",
    "            seen.remove(num / 2)\n",
    "            original.append(num / 2)\n",
    "        else:\n",
    "            return []\n",
    "            \n",
    "        seen.add(num)\n",
    "    \n",
    "    return original"
   ]
  },
  {
   "cell_type": "code",
   "execution_count": 22,
   "id": "4d83d47c-9073-4ece-930c-d54d2bf8c903",
   "metadata": {},
   "outputs": [
    {
     "name": "stdout",
     "output_type": "stream",
     "text": [
      "[]\n"
     ]
    }
   ],
   "source": [
    "changed = [1,3,4,2,6,8]\n",
    "result = arrayTransform(changed)\n",
    "print(result)"
   ]
  },
  {
   "cell_type": "code",
   "execution_count": null,
   "id": "3b466bae-8c68-4324-8ef7-d8e8b6d7c73a",
   "metadata": {},
   "outputs": [],
   "source": []
  }
 ],
 "metadata": {
  "kernelspec": {
   "display_name": "Python 3 (ipykernel)",
   "language": "python",
   "name": "python3"
  },
  "language_info": {
   "codemirror_mode": {
    "name": "ipython",
    "version": 3
   },
   "file_extension": ".py",
   "mimetype": "text/x-python",
   "name": "python",
   "nbconvert_exporter": "python",
   "pygments_lexer": "ipython3",
   "version": "3.10.6"
  }
 },
 "nbformat": 4,
 "nbformat_minor": 5
}
